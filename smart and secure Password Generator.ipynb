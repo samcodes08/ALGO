{
 "cells": [
  {
   "cell_type": "code",
   "execution_count": 2,
   "metadata": {},
   "outputs": [
    {
     "name": "stdout",
     "output_type": "stream",
     "text": [
      "One dream job you want to do but never told anyone\n",
      "stylist\n",
      "Favourite youtuber?\n",
      "shay\n",
      "What is your lucky number\n",
      "8\n",
      "Password 8shay!3#?\n"
     ]
    }
   ],
   "source": [
    "import string\n",
    "import random\n",
    "Q=[]\n",
    "with open('...questions.txt','r') as f:\n",
    "    for line in f:\n",
    "        for word in line.split(';'):\n",
    "           Q.append(word)\n",
    "del(Q[-1])\n",
    "#print(Q)\n",
    "def id_generator(size, list1):\n",
    "    s=''\n",
    "    for i in range(size):\n",
    "        character=random.choice(list1)\n",
    "        list1.remove(character)\n",
    "        s+=character\n",
    "    #return ''.join(random.choice(list1) for _ in range(size))\n",
    "    return(s)\n",
    "p=['.',':','?',';','!','+','@','#']\n",
    "n=['0','1','2','3','4','5','6','7','8','9']\n",
    "l=[]\n",
    "q1=random.choice(Q)\n",
    "Q.remove(q1)\n",
    "print(q1)\n",
    "q1=input()\n",
    "'''for i in range(len(q1)):\n",
    "    l.append(q1[i])'''\n",
    "l.append(q1)\n",
    "q2=random.choice(Q)\n",
    "Q.remove(q2)\n",
    "print(q2)\n",
    "q2=input()\n",
    "'''for i in range(len(q2)):\n",
    "    l.append(q2[i])'''\n",
    "l.append(q2)\n",
    "\n",
    "q3=random.choice(Q)\n",
    "Q.remove(q3)\n",
    "print(q3)\n",
    "q3=input()\n",
    "'''for i in range(len(q3)):\n",
    "    l.append(q3[i])'''\n",
    "l.append(q3)\n",
    "for i in range(3):\n",
    "    n1=random.choice(n)\n",
    "    n.remove(n1)\n",
    "    p1=random.choice(p)\n",
    "    p.remove(p1)\n",
    "    l.append(n1)\n",
    "    l.append(p1)\n",
    "l=list(set(l))\n",
    "#print(l)\n",
    "s=id_generator(6,l)\n",
    "print(\"Password\",s)\n"
   ]
  },
  {
   "cell_type": "code",
   "execution_count": null,
   "metadata": {},
   "outputs": [],
   "source": []
  }
 ],
 "metadata": {
  "kernelspec": {
   "display_name": "Python 3",
   "language": "python",
   "name": "python3"
  },
  "language_info": {
   "codemirror_mode": {
    "name": "ipython",
    "version": 3
   },
   "file_extension": ".py",
   "mimetype": "text/x-python",
   "name": "python",
   "nbconvert_exporter": "python",
   "pygments_lexer": "ipython3",
   "version": "3.7.3"
  }
 },
 "nbformat": 4,
 "nbformat_minor": 2
}
